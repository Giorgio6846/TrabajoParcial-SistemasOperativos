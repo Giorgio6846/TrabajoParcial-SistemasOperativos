{
 "cells": [
  {
   "cell_type": "code",
   "execution_count": null,
   "metadata": {},
   "outputs": [],
   "source": [
    "import pandas as pd\n",
    "import numpy as np\n",
    "\n",
    "#Carga del dataset\n",
    "\n",
    "startDataset = pd.read_csv('books.csv', on_bad_lines= 'skip')\n",
    "\n",
    "startDataset.head()"
   ]
  },
  {
   "cell_type": "code",
   "execution_count": null,
   "metadata": {},
   "outputs": [],
   "source": [
    "# Modificacion de columnas\n",
    "\n",
    "# Eliminacion de columnas\n",
    "newDataset = startDataset.drop([\"bookID\", \"average_rating\", \"isbn\", \"isbn13\", \"language_code\", \"ratings_count\", \"text_reviews_count\"], axis = 1)\n",
    "\n",
    "# Visualizacion del tipo de dato \"publication_date\"\n",
    "print(\"\\n\\nAntes\")\n",
    "print(newDataset.dtypes)\n",
    "\n",
    "# Si encuentra un error en el formato de la fecha elimina la fecha\n",
    "print(\"\\n\\nAhora\")\n",
    "newDataset[\"publication_date\"] = pd.to_datetime(newDataset[\"publication_date\"], format = '%m/%d/%Y', errors = 'coerce')\n",
    "print(newDataset.dtypes)\n",
    "\n",
    "# Modificacion de la columna \"publication_date\" al formato YYYY\n",
    "newDataset[\"publication_date\"] = newDataset[\"publication_date\"].dt.strftime('%Y')\n",
    "\n",
    "# Si hubo un error en publication_date va a eliminar la fila si esta vacia\n",
    "newDataset = newDataset.drop(newDataset[newDataset[\"publication_date\"] == \"NaN\"].index)\n",
    "\n",
    "newDataset.head()"
   ]
  },
  {
   "cell_type": "code",
   "execution_count": null,
   "metadata": {
    "notebookRunGroups": {
     "groupValue": "1"
    }
   },
   "outputs": [],
   "source": [
    "# Creacion de tablas de libros para su uso en la base de datos\n",
    "\n",
    "# Dataframe libro\n",
    "dfLibro = newDataset\n",
    "# Dataframe autor\n",
    "dfAutor = pd.DataFrame(columns = [\"idAutor\", \"nombresApellidos\"])\n",
    "\n",
    "# Dataframe editorial\n",
    "dfEditorial = pd.DataFrame(columns = [\"idEditorial\", \"nombre\"])\n",
    "\n",
    "dfLibro.head()\n",
    "dfAutor.head()\n",
    "dfEditorial.head()"
   ]
  },
  {
   "cell_type": "code",
   "execution_count": null,
   "metadata": {
    "notebookRunGroups": {
     "groupValue": "1"
    }
   },
   "outputs": [],
   "source": [
    "# Ingreso de datos en las tabla autor\n",
    "dfAutor = dfAutor.set_index(\"idAutor\")\n",
    "dfAutor[\"nombresApellidos\"] = newDataset[\"authors\"]\n",
    "dfAutor.drop_duplicates(subset=[\"nombresApellidos\"], inplace=True)\n",
    "dfAutor = dfAutor.reset_index(drop=True)\n",
    "dfAutor.index = dfAutor.index + 1\n",
    "dfAutor[\"idAutor\"] = dfAutor.index\n",
    "dfAutor = dfAutor[[\"idAutor\", \"nombresApellidos\"]]\n",
    "\n",
    "dfAutor.head()"
   ]
  },
  {
   "cell_type": "code",
   "execution_count": null,
   "metadata": {
    "notebookRunGroups": {
     "groupValue": "1"
    }
   },
   "outputs": [],
   "source": [
    "# Ingreso de datos en las tabla editorial\n",
    "\n",
    "dfEditorial = dfEditorial.set_index(\"idEditorial\")\n",
    "dfEditorial[\"nombre\"] = newDataset[\"publisher\"]\n",
    "dfEditorial.drop_duplicates(subset=[\"nombre\"], inplace=True)\n",
    "dfEditorial = dfEditorial.reset_index(drop=True)\n",
    "dfEditorial.index = dfEditorial.index + 1\n",
    "dfEditorial[\"idEditorial\"] = dfEditorial.index\n",
    "dfEditorial = dfEditorial[[\"idEditorial\", \"nombre\"]]\n",
    "\n",
    "dfEditorial.head()"
   ]
  },
  {
   "cell_type": "code",
   "execution_count": null,
   "metadata": {
    "notebookRunGroups": {
     "groupValue": "1"
    }
   },
   "outputs": [],
   "source": [
    "# Modificacion de la tabla libros para su separacion por authores y editoriales\n",
    "dfLibro = pd.merge(dfLibro, dfAutor, left_on=\"authors\", right_on=\"nombresApellidos\")\n",
    "dfLibro = pd.merge(dfLibro, dfEditorial, left_on = \"publisher\", right_on = \"nombre\")\n",
    "\n",
    "dfLibro = dfLibro.drop([\"authors\", \"nombresApellidos\", \"publisher\", \"nombre\"],axis = 1)\n",
    "\n",
    "dfLibro.index.name = \"idLibro\"\n",
    "dfLibro.index = dfLibro.index + 1\n",
    "\n",
    "# Columna precio\n",
    "dfLibro[\"precio\"] = np.random.randint(3000, 10000, dfLibro.shape[0])/100\n",
    "dfLibro = dfLibro.rename(columns={\"title\":'nombre', \"publication_date\":\"anhoPublicado\", \"num_pages\": \"numPaginas\"})\n",
    "dfLibro.columns = ['nombre', 'numPaginas', 'anhoPublicado', 'idAutor', 'idEditorial', 'precio']\n",
    "\n",
    "dfLibro.head(50)"
   ]
  },
  {
   "cell_type": "code",
   "execution_count": null,
   "metadata": {},
   "outputs": [],
   "source": [
    "# Guardado de Archivos\n",
    "\n",
    "\n",
    "dfLibro.to_csv(\"tablaLibro.csv\", columns=[\"idEditorial\", \"idAutor\", \"nombre\", \"precio\", \"numPaginas\", \"anhoPublicado\"])\n",
    "dfAutor.to_csv(\"tablaAutor.csv\", index=False)\n",
    "dfEditorial.to_csv(\"tablaEditorial.csv\", index=False)"
   ]
  }
 ],
 "metadata": {
  "kernelspec": {
   "display_name": "base",
   "language": "python",
   "name": "python3"
  },
  "language_info": {
   "codemirror_mode": {
    "name": "ipython",
    "version": 3
   },
   "file_extension": ".py",
   "mimetype": "text/x-python",
   "name": "python",
   "nbconvert_exporter": "python",
   "pygments_lexer": "ipython3",
   "version": "3.11.7"
  }
 },
 "nbformat": 4,
 "nbformat_minor": 2
}
